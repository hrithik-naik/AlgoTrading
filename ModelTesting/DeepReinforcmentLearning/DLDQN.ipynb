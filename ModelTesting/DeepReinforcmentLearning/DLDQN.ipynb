{
 "cells": [
  {
   "cell_type": "code",
   "id": "initial_id",
   "metadata": {
    "collapsed": true,
    "ExecuteTime": {
     "end_time": "2025-01-14T09:12:13.972040Z",
     "start_time": "2025-01-14T09:12:13.710938Z"
    }
   },
   "source": [
    "import yfinance as yf\n",
    "\n",
    "#trained on Nvidea daily data ,Nvidea minute wise data,ITCL,AAPL,DJTWW,GOOGLE\n",
    "\n",
    "nvda = yf.Ticker(\"GOOG\")\n",
    "datas = nvda.history(period=\"5d\", interval=\"1m\")\n",
    "\n",
    "\n",
    "print(datas)\n",
    "\n",
    "\n",
    "datas.to_csv(\"GOOG_1m_data.csv\")"
   ],
   "outputs": [
    {
     "name": "stdout",
     "output_type": "stream",
     "text": [
      "                                 Open        High         Low       Close  \\\n",
      "Datetime                                                                    \n",
      "2025-01-06 09:30:00-05:00  195.149994  196.800003  195.059998  196.720001   \n",
      "2025-01-06 09:31:00-05:00  196.619995  196.830002  196.179993  196.205002   \n",
      "2025-01-06 09:32:00-05:00  196.134995  196.600006  195.854996  196.130005   \n",
      "2025-01-06 09:33:00-05:00  196.100006  197.100006  196.009995  196.875000   \n",
      "2025-01-06 09:34:00-05:00  196.895004  197.520004  196.895004  197.410004   \n",
      "...                               ...         ...         ...         ...   \n",
      "2025-01-13 15:55:00-05:00  192.119995  192.449997  192.089996  192.399994   \n",
      "2025-01-13 15:56:00-05:00  192.389999  192.419998  192.315994  192.354996   \n",
      "2025-01-13 15:57:00-05:00  192.360001  192.399994  192.220001  192.389999   \n",
      "2025-01-13 15:58:00-05:00  192.380005  192.490005  192.380005  192.449997   \n",
      "2025-01-13 15:59:00-05:00  192.442001  192.455002  192.199997  192.279999   \n",
      "\n",
      "                           Volume  Dividends  Stock Splits  \n",
      "Datetime                                                    \n",
      "2025-01-06 09:30:00-05:00  820629        0.0           0.0  \n",
      "2025-01-06 09:31:00-05:00  125254        0.0           0.0  \n",
      "2025-01-06 09:32:00-05:00   92216        0.0           0.0  \n",
      "2025-01-06 09:33:00-05:00   96668        0.0           0.0  \n",
      "2025-01-06 09:34:00-05:00   89476        0.0           0.0  \n",
      "...                           ...        ...           ...  \n",
      "2025-01-13 15:55:00-05:00  122137        0.0           0.0  \n",
      "2025-01-13 15:56:00-05:00   58576        0.0           0.0  \n",
      "2025-01-13 15:57:00-05:00   81967        0.0           0.0  \n",
      "2025-01-13 15:58:00-05:00   99992        0.0           0.0  \n",
      "2025-01-13 15:59:00-05:00  283784        0.0           0.0  \n",
      "\n",
      "[1947 rows x 7 columns]\n"
     ]
    }
   ],
   "execution_count": 106
  },
  {
   "metadata": {
    "ExecuteTime": {
     "end_time": "2025-01-14T09:12:15.620589Z",
     "start_time": "2025-01-14T09:12:15.613089Z"
    }
   },
   "cell_type": "code",
   "source": [
    "data = datas.dropna()\n",
    "data=data.drop([\"Dividends\",\"Stock Splits\"], axis=1)\n",
    "import pandas as pd\n",
    "from sklearn.preprocessing import MinMaxScaler\n",
    "\n",
    "\n",
    "\n",
    "scaler = MinMaxScaler()\n",
    "data_normalized = scaler.fit_transform(data)\n",
    "data = pd.DataFrame(data_normalized, columns=data.columns)\n",
    "train_size = int(len(data) * 0.75)\n",
    "train_data = data[:train_size]\n",
    "test_data = data[train_size:]"
   ],
   "id": "cd6f508d33dd8a1f",
   "outputs": [],
   "execution_count": 107
  },
  {
   "metadata": {
    "ExecuteTime": {
     "end_time": "2025-01-14T09:12:17.528219Z",
     "start_time": "2025-01-14T09:12:17.522719Z"
    }
   },
   "cell_type": "code",
   "source": [
    "from stable_baselines3 import PPO\n",
    "\n",
    "import gym\n",
    "\n",
    "# Define the trading environment\n",
    "class TradingEnvironment(gym.Env):\n",
    "    def __init__(self, data):\n",
    "        self.data = data\n",
    "        self.action_space = gym.spaces.Discrete(3)  # Buy, Sell, Hold\n",
    "        self.observation_space = gym.spaces.Box(low=0, high=1, shape=(len(data.columns),))\n",
    "\n",
    "    def reset(self):\n",
    "        self.current_step = 0\n",
    "        self.account_balance =500 # Initial account balance\n",
    "        self.shares_held = 0\n",
    "        self.net_worth = self.account_balance\n",
    "        self.max_net_worth = self.account_balance\n",
    "\n",
    "        return self._next_observation()\n",
    "\n",
    "    def _next_observation(self):\n",
    "        return self.data.iloc[self.current_step].values\n",
    "\n",
    "    def step(self, action):\n",
    "        self._take_action(action)\n",
    "        self.current_step += 1\n",
    "\n",
    "        # Ensure we don't exceed the data length\n",
    "        if self.current_step >= len(self.data):\n",
    "            done = True\n",
    "            self.current_step = 0  # Restart the episode\n",
    "        else:\n",
    "            done = False\n",
    "\n",
    "        return self._next_observation(), self._get_reward(), done, {}\n",
    "\n",
    "    def _take_action(self, action):\n",
    "        current_price = self.data.iloc[self.current_step].values[0]\n",
    "\n",
    "        if action == 0:  # Buy\n",
    "            # Ensure you only buy if you have enough balance\n",
    "\n",
    "            if self.account_balance > current_price:\n",
    "                self.shares_held += self.account_balance / current_price\n",
    "                self.account_balance = 0  # Spend all the balance\n",
    "        elif action == 1:  # Sell\n",
    "            if self.shares_held > 0:\n",
    "                self.account_balance += self.shares_held * current_price\n",
    "                self.shares_held = 0  # Sell all shares\n",
    "\n",
    "        # Calculate the net worth after the action\n",
    "\n",
    "        self.net_worth = self.account_balance + self.shares_held * current_price\n",
    "\n",
    "\n",
    "        if self.net_worth > self.max_net_worth:\n",
    "            self.max_net_worth = self.net_worth\n",
    "\n",
    "    def _get_reward(self):\n",
    "\n",
    "        return self.net_worth - (self.account_balance + self.shares_held * self.data.iloc[self.current_step].values[0])\n",
    "# Create the trading environment\n",
    "env = TradingEnvironment(train_data)"
   ],
   "id": "761d584776659e41",
   "outputs": [],
   "execution_count": 108
  },
  {
   "metadata": {
    "ExecuteTime": {
     "end_time": "2025-01-14T09:12:30.753051Z",
     "start_time": "2025-01-14T09:12:20.043737Z"
    }
   },
   "cell_type": "code",
   "source": [
    "from stable_baselines3 import DDPG, A2C, DQN\n",
    "\n",
    "model = DQN.load(\"model\", env=env, verbose=1)\n",
    "model.set_env(env)\n",
    "\n",
    "\n",
    "\n",
    "model.learn(total_timesteps=10000,log_interval=1)\n"
   ],
   "id": "800df22a3b865251",
   "outputs": [
    {
     "name": "stderr",
     "output_type": "stream",
     "text": [
      "J:\\Projects\\DLproject\\ModelTesting\\DeepReinforcmentLearning\\.venv\\Lib\\site-packages\\stable_baselines3\\common\\vec_env\\patch_gym.py:49: UserWarning: You provided an OpenAI Gym environment. We strongly recommend transitioning to Gymnasium environments. Stable-Baselines3 is automatically wrapping your environments in a compatibility layer, which could potentially cause issues.\n",
      "  warnings.warn(\n"
     ]
    },
    {
     "name": "stdout",
     "output_type": "stream",
     "text": [
      "Wrapping the env with a `Monitor` wrapper\n",
      "Wrapping the env in a DummyVecEnv.\n",
      "Wrapping the env with a `Monitor` wrapper\n",
      "Wrapping the env in a DummyVecEnv.\n",
      "----------------------------------\n",
      "| rollout/            |          |\n",
      "|    ep_len_mean      | 1.46e+03 |\n",
      "|    ep_rew_mean      | 274      |\n",
      "|    exploration_rate | 0.05     |\n",
      "| time/               |          |\n",
      "|    episodes         | 1        |\n",
      "|    fps              | 996      |\n",
      "|    time_elapsed     | 1        |\n",
      "|    total_timesteps  | 1460     |\n",
      "| train/              |          |\n",
      "|    learning_rate    | 0.0001   |\n",
      "|    loss             | nan      |\n",
      "|    n_updates        | 262689   |\n",
      "----------------------------------\n",
      "----------------------------------\n",
      "| rollout/            |          |\n",
      "|    ep_len_mean      | 1.46e+03 |\n",
      "|    ep_rew_mean      | 185      |\n",
      "|    exploration_rate | 0.05     |\n",
      "| time/               |          |\n",
      "|    episodes         | 2        |\n",
      "|    fps              | 988      |\n",
      "|    time_elapsed     | 2        |\n",
      "|    total_timesteps  | 2920     |\n",
      "| train/              |          |\n",
      "|    learning_rate    | 0.0001   |\n",
      "|    loss             | nan      |\n",
      "|    n_updates        | 263054   |\n",
      "----------------------------------\n",
      "----------------------------------\n",
      "| rollout/            |          |\n",
      "|    ep_len_mean      | 1.46e+03 |\n",
      "|    ep_rew_mean      | 124      |\n",
      "|    exploration_rate | 0.05     |\n",
      "| time/               |          |\n",
      "|    episodes         | 3        |\n",
      "|    fps              | 969      |\n",
      "|    time_elapsed     | 4        |\n",
      "|    total_timesteps  | 4380     |\n",
      "| train/              |          |\n",
      "|    learning_rate    | 0.0001   |\n",
      "|    loss             | nan      |\n",
      "|    n_updates        | 263419   |\n",
      "----------------------------------\n",
      "----------------------------------\n",
      "| rollout/            |          |\n",
      "|    ep_len_mean      | 1.46e+03 |\n",
      "|    ep_rew_mean      | 120      |\n",
      "|    exploration_rate | 0.05     |\n",
      "| time/               |          |\n",
      "|    episodes         | 4        |\n",
      "|    fps              | 958      |\n",
      "|    time_elapsed     | 6        |\n",
      "|    total_timesteps  | 5840     |\n",
      "| train/              |          |\n",
      "|    learning_rate    | 0.0001   |\n",
      "|    loss             | nan      |\n",
      "|    n_updates        | 263784   |\n",
      "----------------------------------\n",
      "----------------------------------\n",
      "| rollout/            |          |\n",
      "|    ep_len_mean      | 1.46e+03 |\n",
      "|    ep_rew_mean      | 97.4     |\n",
      "|    exploration_rate | 0.05     |\n",
      "| time/               |          |\n",
      "|    episodes         | 5        |\n",
      "|    fps              | 947      |\n",
      "|    time_elapsed     | 7        |\n",
      "|    total_timesteps  | 7300     |\n",
      "| train/              |          |\n",
      "|    learning_rate    | 0.0001   |\n",
      "|    loss             | nan      |\n",
      "|    n_updates        | 264149   |\n",
      "----------------------------------\n",
      "----------------------------------\n",
      "| rollout/            |          |\n",
      "|    ep_len_mean      | 1.46e+03 |\n",
      "|    ep_rew_mean      | 88.9     |\n",
      "|    exploration_rate | 0.05     |\n",
      "| time/               |          |\n",
      "|    episodes         | 6        |\n",
      "|    fps              | 941      |\n",
      "|    time_elapsed     | 9        |\n",
      "|    total_timesteps  | 8760     |\n",
      "| train/              |          |\n",
      "|    learning_rate    | 0.0001   |\n",
      "|    loss             | nan      |\n",
      "|    n_updates        | 264514   |\n",
      "----------------------------------\n"
     ]
    },
    {
     "data": {
      "text/plain": [
       "<stable_baselines3.dqn.dqn.DQN at 0x23f20126360>"
      ]
     },
     "execution_count": 109,
     "metadata": {},
     "output_type": "execute_result"
    }
   ],
   "execution_count": 109
  },
  {
   "metadata": {
    "ExecuteTime": {
     "end_time": "2025-01-14T09:12:32.578286Z",
     "start_time": "2025-01-14T09:12:32.573787Z"
    }
   },
   "cell_type": "code",
   "source": [
    "import numpy as np\n",
    "def evaluate_model(model, env, num_episodes=10):\n",
    "    total_rewards = []\n",
    "\n",
    "    for _ in range(num_episodes):\n",
    "        obs = env.reset()\n",
    "        done = False\n",
    "        total_reward = 0\n",
    "\n",
    "        while not done:\n",
    "            action, _ = model.predict(obs)\n",
    "            obs, reward, done, _ = env.step(action)\n",
    "            total_reward += reward\n",
    "\n",
    "        total_rewards.append(total_reward)\n",
    "\n",
    "    avg_total_reward = np.mean(total_rewards)\n",
    "    print(f\"Average total reward over {num_episodes} episodes: {avg_total_reward}\")\n",
    "def simulate_trading_strategy(model, data):\n",
    "    env = TradingEnvironment(data)\n",
    "    obs = env.reset()\n",
    "\n",
    "    # Initialize a list to store net worth at each time step\n",
    "    net_worth_history = [env.net_worth]\n",
    "\n",
    "    for _ in range(len(data) - 1):  # Adjust loop to avoid exceeding data length\n",
    "        action, _ = model.predict(obs)\n",
    "        obs, _, done, _ = env.step(action)\n",
    "\n",
    "        # Append the current net worth to the history\n",
    "        net_worth_history.append(env.net_worth)\n",
    "\n",
    "        # Check if done flag is reached\n",
    "        if done:\n",
    "            print(\"Reached the end of the dataset.\")\n",
    "            break\n",
    "\n",
    "    return net_worth_history\n",
    "\n",
    "\n"
   ],
   "id": "964d2c0d502c12b8",
   "outputs": [],
   "execution_count": 110
  },
  {
   "metadata": {
    "ExecuteTime": {
     "end_time": "2025-01-14T09:12:34.824100Z",
     "start_time": "2025-01-14T09:12:34.438602Z"
    }
   },
   "cell_type": "code",
   "source": [
    "net_worth = simulate_trading_strategy(model, test_data)\n",
    "import matplotlib.pyplot as plt\n",
    "\n",
    "\n",
    "# Plot the net worth over time\n",
    "plt.plot(net_worth,color='red')\n",
    "plt.xlabel(\"Time\")\n",
    "plt.ylabel(\"Net Worth\")\n",
    "plt.title(\"Net Worth over Time\")\n",
    "plt.show()\n"
   ],
   "id": "4ef5ad7708bce261",
   "outputs": [
    {
     "data": {
      "text/plain": [
       "<Figure size 640x480 with 1 Axes>"
      ],
      "image/png": "[encoded data removed]"
     },
     "metadata": {},
     "output_type": "display_data"
    }
   ],
   "execution_count": 111
  },
  {
   "metadata": {
    "ExecuteTime": {
     "end_time": "2025-01-14T09:12:43.192736Z",
     "start_time": "2025-01-14T09:12:41.130656Z"
    }
   },
   "cell_type": "code",
   "source": [
    "def evaluate_model(model, env, num_episodes=10):\n",
    "    total_rewards = []\n",
    "\n",
    "    for _ in range(num_episodes):\n",
    "        obs = env.reset()\n",
    "        done = False\n",
    "        total_reward = 0\n",
    "\n",
    "        while not done:\n",
    "            action, _ = model.predict(obs)\n",
    "            obs, reward, done, _ = env.step(action)\n",
    "            total_reward += reward\n",
    "\n",
    "        total_rewards.append(total_reward)\n",
    "\n",
    "    avg_total_reward = np.mean(total_rewards)\n",
    "    print(f\"Average total reward over {num_episodes} episodes: {avg_total_reward}\")\n",
    "\n",
    "test_env = TradingEnvironment(test_data)\n",
    "evaluate_model(model, test_env)"
   ],
   "id": "ceb698454bba370a",
   "outputs": [
    {
     "name": "stdout",
     "output_type": "stream",
     "text": [
      "Average total reward over 10 episodes: 52.49216190331667\n"
     ]
    }
   ],
   "execution_count": 113
  },
  {
   "metadata": {
    "ExecuteTime": {
     "end_time": "2025-01-14T09:13:18.116306Z",
     "start_time": "2025-01-14T09:13:18.107306Z"
    }
   },
   "cell_type": "code",
   "source": "model.save(\"model\")",
   "id": "6c8ca10e70be7d2f",
   "outputs": [],
   "execution_count": 115
  }
 ],
 "metadata": {
  "kernelspec": {
   "display_name": "Python 3",
   "language": "python",
   "name": "python3"
  },
  "language_info": {
   "codemirror_mode": {
    "name": "ipython",
    "version": 2
   },
   "file_extension": ".py",
   "mimetype": "text/x-python",
   "name": "python",
   "nbconvert_exporter": "python",
   "pygments_lexer": "ipython2",
   "version": "2.7.6"
  }
 },
 "nbformat": 4,
 "nbformat_minor": 5
}
