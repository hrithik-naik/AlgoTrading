{
 "cells": [
  {
   "cell_type": "code",
   "id": "initial_id",
   "metadata": {
    "collapsed": true,
    "ExecuteTime": {
     "end_time": "2025-01-05T12:38:43.330417Z",
     "start_time": "2025-01-05T12:38:43.327917Z"
    }
   },
   "source": [
    "import yfinance as yf\n",
    "import numpy as np\n",
    "import pandas as pd\n",
    "\n",
    "# Define the ticker symbol\n",
    "ticker = \"AAPL\""
   ],
   "outputs": [],
   "execution_count": 64
  },
  {
   "metadata": {
    "ExecuteTime": {
     "end_time": "2025-01-05T12:38:43.365417Z",
     "start_time": "2025-01-05T12:38:43.336917Z"
    }
   },
   "cell_type": "code",
   "source": "data = yf.download(ticker,start=\"2018-01-01\",end=\"2023-10-31\")",
   "id": "1786c221cec4f7d0",
   "outputs": [
    {
     "name": "stderr",
     "output_type": "stream",
     "text": [
      "[*********************100%***********************]  1 of 1 completed\n"
     ]
    }
   ],
   "execution_count": 65
  },
  {
   "metadata": {
    "ExecuteTime": {
     "end_time": "2025-01-05T12:38:43.385917Z",
     "start_time": "2025-01-05T12:38:43.379417Z"
    }
   },
   "cell_type": "code",
   "source": "data.head()",
   "id": "9cfc7eb1ffb7958a",
   "outputs": [
    {
     "data": {
      "text/plain": [
       "Price           Close       High        Low       Open     Volume\n",
       "Ticker           AAPL       AAPL       AAPL       AAPL       AAPL\n",
       "Date                                                             \n",
       "2018-01-02  40.524338  40.533750  39.818585  40.030313  102223600\n",
       "2018-01-03  40.517284  41.063069  40.453769  40.587860  118071600\n",
       "2018-01-04  40.705490  40.809001  40.482002  40.590216   89738400\n",
       "2018-01-05  41.168926  41.255968  40.710187  40.801935   94640000\n",
       "2018-01-08  41.016018  41.312433  40.917209  41.016018   82271200"
      ],
      "text/html": [
       "<div>\n",
       "<style scoped>\n",
       "    .dataframe tbody tr th:only-of-type {\n",
       "        vertical-align: middle;\n",
       "    }\n",
       "\n",
       "    .dataframe tbody tr th {\n",
       "        vertical-align: top;\n",
       "    }\n",
       "\n",
       "    .dataframe thead tr th {\n",
       "        text-align: left;\n",
       "    }\n",
       "\n",
       "    .dataframe thead tr:last-of-type th {\n",
       "        text-align: right;\n",
       "    }\n",
       "</style>\n",
       "<table border=\"1\" class=\"dataframe\">\n",
       "  <thead>\n",
       "    <tr>\n",
       "      <th>Price</th>\n",
       "      <th>Close</th>\n",
       "      <th>High</th>\n",
       "      <th>Low</th>\n",
       "      <th>Open</th>\n",
       "      <th>Volume</th>\n",
       "    </tr>\n",
       "    <tr>\n",
       "      <th>Ticker</th>\n",
       "      <th>AAPL</th>\n",
       "      <th>AAPL</th>\n",
       "      <th>AAPL</th>\n",
       "      <th>AAPL</th>\n",
       "      <th>AAPL</th>\n",
       "    </tr>\n",
       "    <tr>\n",
       "      <th>Date</th>\n",
       "      <th></th>\n",
       "      <th></th>\n",
       "      <th></th>\n",
       "      <th></th>\n",
       "      <th></th>\n",
       "    </tr>\n",
       "  </thead>\n",
       "  <tbody>\n",
       "    <tr>\n",
       "      <th>2018-01-02</th>\n",
       "      <td>40.524338</td>\n",
       "      <td>40.533750</td>\n",
       "      <td>39.818585</td>\n",
       "      <td>40.030313</td>\n",
       "      <td>102223600</td>\n",
       "    </tr>\n",
       "    <tr>\n",
       "      <th>2018-01-03</th>\n",
       "      <td>40.517284</td>\n",
       "      <td>41.063069</td>\n",
       "      <td>40.453769</td>\n",
       "      <td>40.587860</td>\n",
       "      <td>118071600</td>\n",
       "    </tr>\n",
       "    <tr>\n",
       "      <th>2018-01-04</th>\n",
       "      <td>40.705490</td>\n",
       "      <td>40.809001</td>\n",
       "      <td>40.482002</td>\n",
       "      <td>40.590216</td>\n",
       "      <td>89738400</td>\n",
       "    </tr>\n",
       "    <tr>\n",
       "      <th>2018-01-05</th>\n",
       "      <td>41.168926</td>\n",
       "      <td>41.255968</td>\n",
       "      <td>40.710187</td>\n",
       "      <td>40.801935</td>\n",
       "      <td>94640000</td>\n",
       "    </tr>\n",
       "    <tr>\n",
       "      <th>2018-01-08</th>\n",
       "      <td>41.016018</td>\n",
       "      <td>41.312433</td>\n",
       "      <td>40.917209</td>\n",
       "      <td>41.016018</td>\n",
       "      <td>82271200</td>\n",
       "    </tr>\n",
       "  </tbody>\n",
       "</table>\n",
       "</div>"
      ]
     },
     "execution_count": 66,
     "metadata": {},
     "output_type": "execute_result"
    }
   ],
   "execution_count": 66
  },
  {
   "metadata": {
    "ExecuteTime": {
     "end_time": "2025-01-05T12:38:43.430917Z",
     "start_time": "2025-01-05T12:38:43.421917Z"
    }
   },
   "cell_type": "code",
   "source": "data.to_csv('data.csv', index=False)",
   "id": "8b1ca0f0b9512c60",
   "outputs": [],
   "execution_count": 67
  },
  {
   "metadata": {
    "ExecuteTime": {
     "end_time": "2025-01-05T12:38:43.460917Z",
     "start_time": "2025-01-05T12:38:43.457917Z"
    }
   },
   "cell_type": "code",
   "source": "data = data.dropna()",
   "id": "452cc03aba56ea7b",
   "outputs": [],
   "execution_count": 68
  },
  {
   "metadata": {
    "ExecuteTime": {
     "end_time": "2025-01-05T12:38:43.498417Z",
     "start_time": "2025-01-05T12:38:43.493917Z"
    }
   },
   "cell_type": "code",
   "source": [
    "from sklearn.preprocessing import MinMaxScaler\n",
    "\n",
    "# Normalize the data\n",
    "scaler = MinMaxScaler()\n",
    "data_normalized = scaler.fit_transform(data)"
   ],
   "id": "bb261d17bae9907b",
   "outputs": [],
   "execution_count": 69
  },
  {
   "metadata": {
    "ExecuteTime": {
     "end_time": "2025-01-05T12:38:43.546917Z",
     "start_time": "2025-01-05T12:38:43.543917Z"
    }
   },
   "cell_type": "code",
   "source": [
    "data = pd.DataFrame(data_normalized, columns=data.columns)\n",
    "train_size = int(len(data) * 0.8)\n",
    "train_data = data[:train_size]\n",
    "test_data = data[train_size:]"
   ],
   "id": "a36b0df598486c04",
   "outputs": [],
   "execution_count": 70
  },
  {
   "metadata": {
    "ExecuteTime": {
     "end_time": "2025-01-05T12:38:43.567917Z",
     "start_time": "2025-01-05T12:38:43.561917Z"
    }
   },
   "cell_type": "code",
   "source": "test_data.head()",
   "id": "3d1a9ef98d88bd06",
   "outputs": [
    {
     "data": {
      "text/plain": [
       "Price      Close      High       Low      Open    Volume\n",
       "Ticker      AAPL      AAPL      AAPL      AAPL      AAPL\n",
       "1173    0.764153  0.776857  0.762417  0.784353  0.117574\n",
       "1174    0.753784  0.764777  0.758833  0.773141  0.143102\n",
       "1175    0.758324  0.751600  0.743572  0.750534  0.108269\n",
       "1176    0.745132  0.763435  0.745426  0.769692  0.115174\n",
       "1177    0.737279  0.743486  0.737518  0.749487  0.106965"
      ],
      "text/html": [
       "<div>\n",
       "<style scoped>\n",
       "    .dataframe tbody tr th:only-of-type {\n",
       "        vertical-align: middle;\n",
       "    }\n",
       "\n",
       "    .dataframe tbody tr th {\n",
       "        vertical-align: top;\n",
       "    }\n",
       "\n",
       "    .dataframe thead tr th {\n",
       "        text-align: left;\n",
       "    }\n",
       "</style>\n",
       "<table border=\"1\" class=\"dataframe\">\n",
       "  <thead>\n",
       "    <tr>\n",
       "      <th>Price</th>\n",
       "      <th>Close</th>\n",
       "      <th>High</th>\n",
       "      <th>Low</th>\n",
       "      <th>Open</th>\n",
       "      <th>Volume</th>\n",
       "    </tr>\n",
       "    <tr>\n",
       "      <th>Ticker</th>\n",
       "      <th>AAPL</th>\n",
       "      <th>AAPL</th>\n",
       "      <th>AAPL</th>\n",
       "      <th>AAPL</th>\n",
       "      <th>AAPL</th>\n",
       "    </tr>\n",
       "  </thead>\n",
       "  <tbody>\n",
       "    <tr>\n",
       "      <th>1173</th>\n",
       "      <td>0.764153</td>\n",
       "      <td>0.776857</td>\n",
       "      <td>0.762417</td>\n",
       "      <td>0.784353</td>\n",
       "      <td>0.117574</td>\n",
       "    </tr>\n",
       "    <tr>\n",
       "      <th>1174</th>\n",
       "      <td>0.753784</td>\n",
       "      <td>0.764777</td>\n",
       "      <td>0.758833</td>\n",
       "      <td>0.773141</td>\n",
       "      <td>0.143102</td>\n",
       "    </tr>\n",
       "    <tr>\n",
       "      <th>1175</th>\n",
       "      <td>0.758324</td>\n",
       "      <td>0.751600</td>\n",
       "      <td>0.743572</td>\n",
       "      <td>0.750534</td>\n",
       "      <td>0.108269</td>\n",
       "    </tr>\n",
       "    <tr>\n",
       "      <th>1176</th>\n",
       "      <td>0.745132</td>\n",
       "      <td>0.763435</td>\n",
       "      <td>0.745426</td>\n",
       "      <td>0.769692</td>\n",
       "      <td>0.115174</td>\n",
       "    </tr>\n",
       "    <tr>\n",
       "      <th>1177</th>\n",
       "      <td>0.737279</td>\n",
       "      <td>0.743486</td>\n",
       "      <td>0.737518</td>\n",
       "      <td>0.749487</td>\n",
       "      <td>0.106965</td>\n",
       "    </tr>\n",
       "  </tbody>\n",
       "</table>\n",
       "</div>"
      ]
     },
     "execution_count": 71,
     "metadata": {},
     "output_type": "execute_result"
    }
   ],
   "execution_count": 71
  },
  {
   "metadata": {
    "ExecuteTime": {
     "end_time": "2025-01-05T12:38:43.612926Z",
     "start_time": "2025-01-05T12:38:43.606925Z"
    }
   },
   "cell_type": "code",
   "source": [
    "from stable_baselines3 import PPO\n",
    "\n",
    "import gym\n",
    "\n",
    "# Define the trading environment\n",
    "class TradingEnvironment(gym.Env):\n",
    "    def __init__(self, data):\n",
    "        self.data = data\n",
    "        self.action_space = gym.spaces.Discrete(3)  # Buy, Sell, Hold\n",
    "        self.observation_space = gym.spaces.Box(low=0, high=1, shape=(len(data.columns),))\n",
    "\n",
    "    def reset(self):\n",
    "        self.current_step = 0\n",
    "        self.account_balance = 100000  # Initial account balance\n",
    "        self.shares_held = 0\n",
    "        self.net_worth = self.account_balance\n",
    "        self.max_net_worth = self.account_balance\n",
    "\n",
    "        return self._next_observation()\n",
    "\n",
    "    def _next_observation(self):\n",
    "        return self.data.iloc[self.current_step].values\n",
    "\n",
    "    def step(self, action):\n",
    "        self._take_action(action)\n",
    "        self.current_step += 1\n",
    "\n",
    "        if self.current_step > len(self.data) - 1:\n",
    "            self.current_step = 0\n",
    "\n",
    "        return self._next_observation(), self._get_reward(), self.net_worth, {}\n",
    "\n",
    "    def _take_action(self, action):\n",
    "        if action == 0:  # Buy\n",
    "            self.shares_held += self.account_balance / self.data.iloc[self.current_step].values[0]\n",
    "            self.account_balance -= self.account_balance\n",
    "        elif action == 1:  # Sell\n",
    "            self.account_balance += self.shares_held * self.data.iloc[self.current_step].values[0]\n",
    "            self.shares_held -= self.shares_held\n",
    "\n",
    "        self.net_worth = self.account_balance + self.shares_held * self.data.iloc[self.current_step].values[0]\n",
    "\n",
    "        if self.net_worth > self.max_net_worth:\n",
    "            self.max_net_worth = self.net_worth\n",
    "\n",
    "    def _get_reward(self):\n",
    "        return self.net_worth - self.account_balance\n",
    "\n",
    "# Create the trading environment\n",
    "env = TradingEnvironment(train_data)"
   ],
   "id": "902ad08ec980699a",
   "outputs": [],
   "execution_count": 72
  },
  {
   "metadata": {
    "ExecuteTime": {
     "end_time": "2025-01-05T12:39:10.008416Z",
     "start_time": "2025-01-05T12:39:02.050768Z"
    }
   },
   "cell_type": "code",
   "source": [
    "model = PPO(\"MlpPolicy\", env, verbose=1,device=\"cpu\")\n",
    "\n",
    "# Train the model\n",
    "model.learn(total_timesteps=10000)"
   ],
   "id": "fa4d580795b3ffe9",
   "outputs": [
    {
     "name": "stdout",
     "output_type": "stream",
     "text": [
      "Using cpu device\n",
      "Wrapping the env with a `Monitor` wrapper\n",
      "Wrapping the env in a DummyVecEnv.\n"
     ]
    },
    {
     "name": "stderr",
     "output_type": "stream",
     "text": [
      "J:\\Projects\\DLproject\\ModelTesting\\DeepReinforcmentLearning\\.venv\\Lib\\site-packages\\stable_baselines3\\common\\vec_env\\patch_gym.py:49: UserWarning: You provided an OpenAI Gym environment. We strongly recommend transitioning to Gymnasium environments. Stable-Baselines3 is automatically wrapping your environments in a compatibility layer, which could potentially cause issues.\n",
      "  warnings.warn(\n"
     ]
    },
    {
     "name": "stdout",
     "output_type": "stream",
     "text": [
      "---------------------------------\n",
      "| rollout/           |          |\n",
      "|    ep_len_mean     | 1        |\n",
      "|    ep_rew_mean     | 3.1e+04  |\n",
      "| time/              |          |\n",
      "|    fps             | 2063     |\n",
      "|    iterations      | 1        |\n",
      "|    time_elapsed    | 0        |\n",
      "|    total_timesteps | 2048     |\n",
      "---------------------------------\n",
      "-------------------------------------------\n",
      "| rollout/                |               |\n",
      "|    ep_len_mean          | 1             |\n",
      "|    ep_rew_mean          | 3.6e+04       |\n",
      "| time/                   |               |\n",
      "|    fps                  | 1588          |\n",
      "|    iterations           | 2             |\n",
      "|    time_elapsed         | 2             |\n",
      "|    total_timesteps      | 4096          |\n",
      "| train/                  |               |\n",
      "|    approx_kl            | 5.8778154e-05 |\n",
      "|    clip_fraction        | 0             |\n",
      "|    clip_range           | 0.2           |\n",
      "|    entropy_loss         | -1.1          |\n",
      "|    explained_variance   | 0             |\n",
      "|    learning_rate        | 0.0003        |\n",
      "|    loss                 | 1.33e+09      |\n",
      "|    n_updates            | 10            |\n",
      "|    policy_gradient_loss | -0.00687      |\n",
      "|    value_loss           | 3.35e+09      |\n",
      "-------------------------------------------\n",
      "-------------------------------------------\n",
      "| rollout/                |               |\n",
      "|    ep_len_mean          | 1             |\n",
      "|    ep_rew_mean          | 3.8e+04       |\n",
      "| time/                   |               |\n",
      "|    fps                  | 1475          |\n",
      "|    iterations           | 3             |\n",
      "|    time_elapsed         | 4             |\n",
      "|    total_timesteps      | 6144          |\n",
      "| train/                  |               |\n",
      "|    approx_kl            | 1.8273247e-05 |\n",
      "|    clip_fraction        | 0             |\n",
      "|    clip_range           | 0.2           |\n",
      "|    entropy_loss         | -1.1          |\n",
      "|    explained_variance   | 0             |\n",
      "|    learning_rate        | 0.0003        |\n",
      "|    loss                 | 1.02e+09      |\n",
      "|    n_updates            | 20            |\n",
      "|    policy_gradient_loss | -0.00311      |\n",
      "|    value_loss           | 3.25e+09      |\n",
      "-------------------------------------------\n",
      "-------------------------------------------\n",
      "| rollout/                |               |\n",
      "|    ep_len_mean          | 1             |\n",
      "|    ep_rew_mean          | 3.5e+04       |\n",
      "| time/                   |               |\n",
      "|    fps                  | 1426          |\n",
      "|    iterations           | 4             |\n",
      "|    time_elapsed         | 5             |\n",
      "|    total_timesteps      | 8192          |\n",
      "| train/                  |               |\n",
      "|    approx_kl            | 1.7664977e-05 |\n",
      "|    clip_fraction        | 0             |\n",
      "|    clip_range           | 0.2           |\n",
      "|    entropy_loss         | -1.1          |\n",
      "|    explained_variance   | 2.38e-07      |\n",
      "|    learning_rate        | 0.0003        |\n",
      "|    loss                 | 1.56e+09      |\n",
      "|    n_updates            | 30            |\n",
      "|    policy_gradient_loss | -0.00308      |\n",
      "|    value_loss           | 3.48e+09      |\n",
      "-------------------------------------------\n",
      "------------------------------------------\n",
      "| rollout/                |              |\n",
      "|    ep_len_mean          | 1            |\n",
      "|    ep_rew_mean          | 3.7e+04      |\n",
      "| time/                   |              |\n",
      "|    fps                  | 1399         |\n",
      "|    iterations           | 5            |\n",
      "|    time_elapsed         | 7            |\n",
      "|    total_timesteps      | 10240        |\n",
      "| train/                  |              |\n",
      "|    approx_kl            | 1.899476e-05 |\n",
      "|    clip_fraction        | 0            |\n",
      "|    clip_range           | 0.2          |\n",
      "|    entropy_loss         | -1.1         |\n",
      "|    explained_variance   | 1.19e-07     |\n",
      "|    learning_rate        | 0.0003       |\n",
      "|    loss                 | 1.87e+09     |\n",
      "|    n_updates            | 40           |\n",
      "|    policy_gradient_loss | -0.00317     |\n",
      "|    value_loss           | 3.27e+09     |\n",
      "------------------------------------------\n"
     ]
    },
    {
     "data": {
      "text/plain": [
       "<stable_baselines3.ppo.ppo.PPO at 0x2045c5c99d0>"
      ]
     },
     "execution_count": 78,
     "metadata": {},
     "output_type": "execute_result"
    }
   ],
   "execution_count": 78
  },
  {
   "metadata": {
    "ExecuteTime": {
     "end_time": "2025-01-05T12:39:15.965378Z",
     "start_time": "2025-01-05T12:39:15.962379Z"
    }
   },
   "cell_type": "code",
   "source": [
    "def simulate_trading_strategy(model, data):\n",
    "    env = TradingEnvironment(data)\n",
    "    obs = env.reset()\n",
    "\n",
    "    for i in range(len(data)):\n",
    "        action, _ = model.predict(obs)\n",
    "        obs, _, _, _ = env.step(action)\n",
    "\n",
    "    return env.net_worth"
   ],
   "id": "543a11cdadb4da50",
   "outputs": [],
   "execution_count": 79
  },
  {
   "metadata": {
    "ExecuteTime": {
     "end_time": "2025-01-05T12:39:18.299621Z",
     "start_time": "2025-01-05T12:39:18.205621Z"
    }
   },
   "cell_type": "code",
   "source": [
    "net_worth = simulate_trading_strategy(model, test_data)\n",
    "from stable_baselines3 import PPO\n",
    "from stable_baselines3.common.envs import DummyVecEnv\n"
   ],
   "id": "c29502bb53ea78b",
   "outputs": [],
   "execution_count": 80
  },
  {
   "metadata": {
    "ExecuteTime": {
     "end_time": "2025-01-05T12:39:19.770331Z",
     "start_time": "2025-01-05T12:39:19.709272Z"
    }
   },
   "cell_type": "code",
   "source": [
    "import matplotlib.pyplot as plt\n",
    "\n",
    "\n",
    "# Plot the net worth over time\n",
    "plt.plot(net_worth,color='red')\n",
    "plt.xlabel(\"Time\")\n",
    "plt.ylabel(\"Net Worth\")\n",
    "plt.title(\"Net Worth over Time\")\n",
    "plt.show()"
   ],
   "id": "131d1e72baecaaf9",
   "outputs": [
    {
     "data": {
      "text/plain": [
       "<Figure size 640x480 with 1 Axes>"
      ],
      "image/png": "[encoded data removed]"
     },
     "metadata": {},
     "output_type": "display_data"
    }
   ],
   "execution_count": 81
  },
  {
   "metadata": {
    "ExecuteTime": {
     "end_time": "2025-01-05T12:39:01.519906Z",
     "start_time": "2025-01-05T12:39:01.516906Z"
    }
   },
   "cell_type": "code",
   "source": "print(net_worth)",
   "id": "fe7455ddde182b2f",
   "outputs": [
    {
     "name": "stdout",
     "output_type": "stream",
     "text": [
      "150228.7232748401\n"
     ]
    }
   ],
   "execution_count": 77
  }
 ],
 "metadata": {
  "kernelspec": {
   "display_name": "Python 3",
   "language": "python",
   "name": "python3"
  },
  "language_info": {
   "codemirror_mode": {
    "name": "ipython",
    "version": 2
   },
   "file_extension": ".py",
   "mimetype": "text/x-python",
   "name": "python",
   "nbconvert_exporter": "python",
   "pygments_lexer": "ipython2",
   "version": "2.7.6"
  }
 },
 "nbformat": 4,
 "nbformat_minor": 5
}
