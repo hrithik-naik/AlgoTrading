{
 "cells": [
  {
   "cell_type": "code",
   "execution_count": null,
   "id": "initial_id",
   "metadata": {
    "jupyter": {
     "is_executing": true
    }
   },
   "outputs": [],
   "source": [
    "import yfinance as yf\n",
    "import matplotlib.pyplot as plt\n",
    "import pandas as pd\n",
    "\n",
    "ticker = \"TSLA\"\n",
    "data = yf.download(ticker)\n",
    "\n",
    "plt.title(\"Close price of google\")\n",
    "plt.plot(data[\"Volume\"])\n",
    "\n",
    "\n",
    "\n",
    "\n"
   ]
  },
  {
   "cell_type": "code",
   "execution_count": 4,
   "id": "1a69855a32c60045",
   "metadata": {
    "jupyter": {
     "is_executing": true
    }
   },
   "outputs": [],
   "source": [
    "import numpy as np\n",
    "import matplotlib.pyplot as plt\n",
    "import pandas as pd"
   ]
  },
  {
   "cell_type": "code",
   "execution_count": 5,
   "id": "e08c4e6774fe4bce",
   "metadata": {
    "jupyter": {
     "is_executing": true
    }
   },
   "outputs": [
    {
     "data": {
      "text/html": [
       "<div>\n",
       "<style scoped>\n",
       "    .dataframe tbody tr th:only-of-type {\n",
       "        vertical-align: middle;\n",
       "    }\n",
       "\n",
       "    .dataframe tbody tr th {\n",
       "        vertical-align: top;\n",
       "    }\n",
       "\n",
       "    .dataframe thead th {\n",
       "        text-align: right;\n",
       "    }\n",
       "</style>\n",
       "<table border=\"1\" class=\"dataframe\">\n",
       "  <thead>\n",
       "    <tr style=\"text-align: right;\">\n",
       "      <th></th>\n",
       "      <th>Date</th>\n",
       "      <th>Close</th>\n",
       "      <th>High</th>\n",
       "      <th>Low</th>\n",
       "      <th>Open</th>\n",
       "      <th>Volume</th>\n",
       "    </tr>\n",
       "  </thead>\n",
       "  <tbody>\n",
       "    <tr>\n",
       "      <th>0</th>\n",
       "      <td>Date</td>\n",
       "      <td>NaN</td>\n",
       "      <td>NaN</td>\n",
       "      <td>NaN</td>\n",
       "      <td>NaN</td>\n",
       "      <td>NaN</td>\n",
       "    </tr>\n",
       "    <tr>\n",
       "      <th>1</th>\n",
       "      <td>2010-06-29</td>\n",
       "      <td>1.592667</td>\n",
       "      <td>1.666667</td>\n",
       "      <td>1.169333</td>\n",
       "      <td>1.266667</td>\n",
       "      <td>281494500.0</td>\n",
       "    </tr>\n",
       "    <tr>\n",
       "      <th>2</th>\n",
       "      <td>2010-06-30</td>\n",
       "      <td>1.588667</td>\n",
       "      <td>2.028000</td>\n",
       "      <td>1.553333</td>\n",
       "      <td>1.719333</td>\n",
       "      <td>257806500.0</td>\n",
       "    </tr>\n",
       "    <tr>\n",
       "      <th>3</th>\n",
       "      <td>2010-07-01</td>\n",
       "      <td>1.464000</td>\n",
       "      <td>1.728000</td>\n",
       "      <td>1.351333</td>\n",
       "      <td>1.666667</td>\n",
       "      <td>123282000.0</td>\n",
       "    </tr>\n",
       "    <tr>\n",
       "      <th>4</th>\n",
       "      <td>2010-07-02</td>\n",
       "      <td>1.280000</td>\n",
       "      <td>1.540000</td>\n",
       "      <td>1.247333</td>\n",
       "      <td>1.533333</td>\n",
       "      <td>77097000.0</td>\n",
       "    </tr>\n",
       "  </tbody>\n",
       "</table>\n",
       "</div>"
      ],
      "text/plain": [
       "         Date     Close      High       Low      Open       Volume\n",
       "0        Date       NaN       NaN       NaN       NaN          NaN\n",
       "1  2010-06-29  1.592667  1.666667  1.169333  1.266667  281494500.0\n",
       "2  2010-06-30  1.588667  2.028000  1.553333  1.719333  257806500.0\n",
       "3  2010-07-01  1.464000  1.728000  1.351333  1.666667  123282000.0\n",
       "4  2010-07-02  1.280000  1.540000  1.247333  1.533333   77097000.0"
      ]
     },
     "execution_count": 5,
     "metadata": {},
     "output_type": "execute_result"
    }
   ],
   "source": [
    "data=pd.read_csv(\"test.csv\")\n",
    "data.head()"
   ]
  },
  {
   "cell_type": "code",
   "execution_count": 6,
   "id": "2588e9059e9fb67e",
   "metadata": {
    "ExecuteTime": {
     "end_time": "2025-01-14T11:30:41.251882Z",
     "start_time": "2025-01-14T11:30:41.245382Z"
    }
   },
   "outputs": [
    {
     "name": "stdout",
     "output_type": "stream",
     "text": [
      "<class 'pandas.core.frame.DataFrame'>\n",
      "RangeIndex: 3660 entries, 0 to 3659\n",
      "Data columns (total 6 columns):\n",
      " #   Column  Non-Null Count  Dtype  \n",
      "---  ------  --------------  -----  \n",
      " 0   Date    3660 non-null   object \n",
      " 1   Close   3659 non-null   float64\n",
      " 2   High    3659 non-null   float64\n",
      " 3   Low     3659 non-null   float64\n",
      " 4   Open    3659 non-null   float64\n",
      " 5   Volume  3659 non-null   float64\n",
      "dtypes: float64(5), object(1)\n",
      "memory usage: 171.7+ KB\n"
     ]
    }
   ],
   "source": [
    "data.info()\n",
    "data.isnull().sum()\n",
    "data = data.dropna()"
   ]
  },
  {
   "cell_type": "code",
   "execution_count": 7,
   "id": "3c19449c586b4f7f",
   "metadata": {
    "ExecuteTime": {
     "end_time": "2025-01-14T11:30:42.945704Z",
     "start_time": "2025-01-14T11:30:42.942704Z"
    }
   },
   "outputs": [
    {
     "name": "stdout",
     "output_type": "stream",
     "text": [
      "Data length : 3659\n",
      "Train data length : 2561\n",
      "Validation data lenth : 1098\n"
     ]
    }
   ],
   "source": [
    "length_data = len(data)     # rows that data has\n",
    "split_ratio = 0.7           # %70 train + %30 validation\n",
    "length_train = round(length_data * split_ratio)\n",
    "length_validation = length_data - length_train\n",
    "print(\"Data length :\", length_data)\n",
    "print(\"Train data length :\", length_train)\n",
    "print(\"Validation data lenth :\", length_validation)"
   ]
  },
  {
   "cell_type": "code",
   "execution_count": 8,
   "id": "178f366668c56418",
   "metadata": {
    "ExecuteTime": {
     "end_time": "2025-01-14T11:30:44.200862Z",
     "start_time": "2025-01-14T11:30:44.192363Z"
    }
   },
   "outputs": [
    {
     "data": {
      "text/html": [
       "<div>\n",
       "<style scoped>\n",
       "    .dataframe tbody tr th:only-of-type {\n",
       "        vertical-align: middle;\n",
       "    }\n",
       "\n",
       "    .dataframe tbody tr th {\n",
       "        vertical-align: top;\n",
       "    }\n",
       "\n",
       "    .dataframe thead th {\n",
       "        text-align: right;\n",
       "    }\n",
       "</style>\n",
       "<table border=\"1\" class=\"dataframe\">\n",
       "  <thead>\n",
       "    <tr style=\"text-align: right;\">\n",
       "      <th></th>\n",
       "      <th>Date</th>\n",
       "      <th>Close</th>\n",
       "    </tr>\n",
       "  </thead>\n",
       "  <tbody>\n",
       "    <tr>\n",
       "      <th>1</th>\n",
       "      <td>2010-06-29</td>\n",
       "      <td>1.592667</td>\n",
       "    </tr>\n",
       "    <tr>\n",
       "      <th>2</th>\n",
       "      <td>2010-06-30</td>\n",
       "      <td>1.588667</td>\n",
       "    </tr>\n",
       "    <tr>\n",
       "      <th>3</th>\n",
       "      <td>2010-07-01</td>\n",
       "      <td>1.464000</td>\n",
       "    </tr>\n",
       "    <tr>\n",
       "      <th>4</th>\n",
       "      <td>2010-07-02</td>\n",
       "      <td>1.280000</td>\n",
       "    </tr>\n",
       "    <tr>\n",
       "      <th>5</th>\n",
       "      <td>2010-07-06</td>\n",
       "      <td>1.074000</td>\n",
       "    </tr>\n",
       "  </tbody>\n",
       "</table>\n",
       "</div>"
      ],
      "text/plain": [
       "         Date     Close\n",
       "1  2010-06-29  1.592667\n",
       "2  2010-06-30  1.588667\n",
       "3  2010-07-01  1.464000\n",
       "4  2010-07-02  1.280000\n",
       "5  2010-07-06  1.074000"
      ]
     },
     "execution_count": 8,
     "metadata": {},
     "output_type": "execute_result"
    }
   ],
   "source": [
    "train_data = data[[\"Date\", \"Close\"]][:length_train]\n",
    "train_data.head()\n"
   ]
  },
  {
   "cell_type": "code",
   "execution_count": 9,
   "id": "9f98f5292c3bfdac",
   "metadata": {
    "ExecuteTime": {
     "end_time": "2025-01-14T11:30:45.456103Z",
     "start_time": "2025-01-14T11:30:45.450603Z"
    }
   },
   "outputs": [
    {
     "data": {
      "text/html": [
       "<div>\n",
       "<style scoped>\n",
       "    .dataframe tbody tr th:only-of-type {\n",
       "        vertical-align: middle;\n",
       "    }\n",
       "\n",
       "    .dataframe tbody tr th {\n",
       "        vertical-align: top;\n",
       "    }\n",
       "\n",
       "    .dataframe thead th {\n",
       "        text-align: right;\n",
       "    }\n",
       "</style>\n",
       "<table border=\"1\" class=\"dataframe\">\n",
       "  <thead>\n",
       "    <tr style=\"text-align: right;\">\n",
       "      <th></th>\n",
       "      <th>Date</th>\n",
       "      <th>Close</th>\n",
       "    </tr>\n",
       "  </thead>\n",
       "  <tbody>\n",
       "    <tr>\n",
       "      <th>1099</th>\n",
       "      <td>2014-11-06</td>\n",
       "      <td>16.081333</td>\n",
       "    </tr>\n",
       "    <tr>\n",
       "      <th>1100</th>\n",
       "      <td>2014-11-07</td>\n",
       "      <td>16.013332</td>\n",
       "    </tr>\n",
       "    <tr>\n",
       "      <th>1101</th>\n",
       "      <td>2014-11-10</td>\n",
       "      <td>16.128668</td>\n",
       "    </tr>\n",
       "    <tr>\n",
       "      <th>1102</th>\n",
       "      <td>2014-11-11</td>\n",
       "      <td>16.738667</td>\n",
       "    </tr>\n",
       "    <tr>\n",
       "      <th>1103</th>\n",
       "      <td>2014-11-12</td>\n",
       "      <td>16.606667</td>\n",
       "    </tr>\n",
       "  </tbody>\n",
       "</table>\n",
       "</div>"
      ],
      "text/plain": [
       "            Date      Close\n",
       "1099  2014-11-06  16.081333\n",
       "1100  2014-11-07  16.013332\n",
       "1101  2014-11-10  16.128668\n",
       "1102  2014-11-11  16.738667\n",
       "1103  2014-11-12  16.606667"
      ]
     },
     "execution_count": 9,
     "metadata": {},
     "output_type": "execute_result"
    }
   ],
   "source": [
    "validation_data = data[[\"Date\", \"Close\"]][length_validation:]\n",
    "validation_data.head()"
   ]
  },
  {
   "cell_type": "code",
   "execution_count": 10,
   "id": "3210a6e7e3f73987",
   "metadata": {
    "ExecuteTime": {
     "end_time": "2025-01-14T11:30:47.174341Z",
     "start_time": "2025-01-14T11:30:47.170841Z"
    }
   },
   "outputs": [
    {
     "data": {
      "text/plain": [
       "(2561,)"
      ]
     },
     "execution_count": 10,
     "metadata": {},
     "output_type": "execute_result"
    }
   ],
   "source": [
    "dataset_train = train_data.Close.values\n",
    "dataset_train.shape"
   ]
  },
  {
   "cell_type": "code",
   "execution_count": 11,
   "id": "29c6e4031b3e243c",
   "metadata": {
    "ExecuteTime": {
     "end_time": "2025-01-14T11:30:48.365228Z",
     "start_time": "2025-01-14T11:30:48.361228Z"
    }
   },
   "outputs": [
    {
     "data": {
      "text/plain": [
       "(2561, 1)"
      ]
     },
     "execution_count": 11,
     "metadata": {},
     "output_type": "execute_result"
    }
   ],
   "source": [
    "dataset_train = np.reshape(dataset_train, (-1,1))\n",
    "dataset_train.shape"
   ]
  },
  {
   "cell_type": "code",
   "execution_count": 13,
   "id": "ed79979485fdc9ba",
   "metadata": {
    "ExecuteTime": {
     "end_time": "2025-01-14T11:30:52.858996Z",
     "start_time": "2025-01-14T11:30:52.854495Z"
    }
   },
   "outputs": [
    {
     "data": {
      "text/plain": [
       "(2561, 1)"
      ]
     },
     "execution_count": 13,
     "metadata": {},
     "output_type": "execute_result"
    }
   ],
   "source": [
    "from sklearn.preprocessing import MinMaxScaler\n",
    "scaler = MinMaxScaler(feature_range = (0,1))\n",
    "\n",
    "\n",
    "# scaling dataset\n",
    "dataset_train_scaled = scaler.fit_transform(dataset_train)\n",
    "\n",
    "dataset_train_scaled.shape"
   ]
  },
  {
   "cell_type": "code",
   "execution_count": 14,
   "id": "c260ad9062307f93",
   "metadata": {
    "ExecuteTime": {
     "end_time": "2025-01-14T11:30:54.886754Z",
     "start_time": "2025-01-14T11:30:54.814755Z"
    }
   },
   "outputs": [
    {
     "data": {
      "image/png": "[encoded data removed]",
      "text/plain": [
       "<Figure size 1500x600 with 1 Axes>"
      ]
     },
     "metadata": {},
     "output_type": "display_data"
    }
   ],
   "source": [
    "plt.subplots(figsize = (15,6))\n",
    "plt.plot(dataset_train_scaled)\n",
    "plt.xlabel(\"Days as 1st, 2nd, 3rd..\")\n",
    "plt.ylabel(\"Open Price\")\n",
    "plt.show()"
   ]
  },
  {
   "cell_type": "code",
   "execution_count": 15,
   "id": "88ce8fc9a8de51e",
   "metadata": {
    "ExecuteTime": {
     "end_time": "2025-01-14T11:31:03.911513Z",
     "start_time": "2025-01-14T11:31:03.906513Z"
    }
   },
   "outputs": [],
   "source": [
    "X_train = []\n",
    "y_train = []\n",
    "\n",
    "time_step = 50\n",
    "\n",
    "for i in range(time_step, length_train):\n",
    "    X_train.append(dataset_train_scaled[i-time_step:i,0])\n",
    "    y_train.append(dataset_train_scaled[i,0])\n",
    "\n",
    "# convert list to array\n",
    "X_train, y_train = np.array(X_train), np.array(y_train)"
   ]
  },
  {
   "cell_type": "code",
   "execution_count": 16,
   "id": "59e55a73ea1a7e15",
   "metadata": {
    "ExecuteTime": {
     "end_time": "2025-01-14T11:31:05.192079Z",
     "start_time": "2025-01-14T11:31:05.189079Z"
    }
   },
   "outputs": [
    {
     "name": "stdout",
     "output_type": "stream",
     "text": [
      "Shape of X_train before reshape : (2511, 50)\n",
      "Shape of y_train before reshape : (2511,)\n"
     ]
    }
   ],
   "source": [
    "print(\"Shape of X_train before reshape :\",X_train.shape)\n",
    "print(\"Shape of y_train before reshape :\",y_train.shape)"
   ]
  },
  {
   "cell_type": "code",
   "execution_count": 17,
   "id": "c979d99a78acc86a",
   "metadata": {
    "ExecuteTime": {
     "end_time": "2025-01-14T11:31:06.522717Z",
     "start_time": "2025-01-14T11:31:06.517716Z"
    }
   },
   "outputs": [
    {
     "name": "stdout",
     "output_type": "stream",
     "text": [
      "Shape of X_train after reshape : (2511, 50, 1)\n",
      "Shape of y_train after reshape : (2511, 1)\n"
     ]
    }
   ],
   "source": [
    "X_train = np.reshape(X_train, (X_train.shape[0], X_train.shape[1],1))\n",
    "y_train = np.reshape(y_train, (y_train.shape[0],1))\n",
    "\n",
    "print(\"Shape of X_train after reshape :\",X_train.shape)\n",
    "print(\"Shape of y_train after reshape :\",y_train.shape)"
   ]
  },
  {
   "cell_type": "code",
   "execution_count": 18,
   "id": "cb869b77f4a847c4",
   "metadata": {
    "ExecuteTime": {
     "end_time": "2025-01-14T11:31:07.757862Z",
     "start_time": "2025-01-14T11:31:07.753862Z"
    }
   },
   "outputs": [
    {
     "data": {
      "text/plain": [
       "array([[0.00363931],\n",
       "       [0.00361232],\n",
       "       [0.00277109],\n",
       "       [0.0015295 ],\n",
       "       [0.00013946],\n",
       "       [0.        ],\n",
       "       [0.00074676],\n",
       "       [0.00071977],\n",
       "       [0.00056232],\n",
       "       [0.00105265],\n",
       "       [0.00181741],\n",
       "       [0.0018399 ],\n",
       "       [0.00217729],\n",
       "       [0.0027486 ],\n",
       "       [0.00202434],\n",
       "       [0.00198835],\n",
       "       [0.00233924],\n",
       "       [0.00246969],\n",
       "       [0.00231675],\n",
       "       [0.0021368 ],\n",
       "       [0.00221327],\n",
       "       [0.00204683],\n",
       "       [0.00186239],\n",
       "       [0.00230325],\n",
       "       [0.00276659],\n",
       "       [0.0024562 ],\n",
       "       [0.00209181],\n",
       "       [0.00170494],\n",
       "       [0.00170944],\n",
       "       [0.00145303],\n",
       "       [0.00094469],\n",
       "       [0.00080973],\n",
       "       [0.00113363],\n",
       "       [0.00134056],\n",
       "       [0.00150701],\n",
       "       [0.00133606],\n",
       "       [0.00134506],\n",
       "       [0.00148451],\n",
       "       [0.00194786],\n",
       "       [0.0015295 ],\n",
       "       [0.0018444 ],\n",
       "       [0.00177692],\n",
       "       [0.00175443],\n",
       "       [0.0018309 ],\n",
       "       [0.00165546],\n",
       "       [0.00209181],\n",
       "       [0.00236623],\n",
       "       [0.00236173],\n",
       "       [0.0021323 ],\n",
       "       [0.00229425]])"
      ]
     },
     "execution_count": 18,
     "metadata": {},
     "output_type": "execute_result"
    }
   ],
   "source": [
    "X_train[0]"
   ]
  },
  {
   "cell_type": "code",
   "execution_count": 19,
   "id": "d64067b354ac17c2",
   "metadata": {
    "ExecuteTime": {
     "end_time": "2025-01-14T11:31:09.367149Z",
     "start_time": "2025-01-14T11:31:09.364150Z"
    }
   },
   "outputs": [],
   "source": [
    "y_train[0]\n",
    "import warnings\n",
    "warnings.filterwarnings('ignore')\n"
   ]
  },
  {
   "cell_type": "code",
   "execution_count": 24,
   "id": "4045521e4bd420c1",
   "metadata": {
    "ExecuteTime": {
     "end_time": "2025-01-14T11:32:26.571866Z",
     "start_time": "2025-01-14T11:32:01.008846Z"
    }
   },
   "outputs": [
    {
     "name": "stdout",
     "output_type": "stream",
     "text": [
      "Epoch 1/10\n",
      "252/252 [==============================] - 5s 12ms/step - loss: 5.7265e-04 - accuracy: 7.9650e-04\n",
      "Epoch 2/10\n",
      "252/252 [==============================] - 3s 12ms/step - loss: 3.0826e-04 - accuracy: 7.9650e-04\n",
      "Epoch 3/10\n",
      "252/252 [==============================] - 3s 12ms/step - loss: 2.2557e-04 - accuracy: 7.9650e-04\n",
      "Epoch 4/10\n",
      "252/252 [==============================] - 3s 12ms/step - loss: 1.9900e-04 - accuracy: 7.9650e-04\n",
      "Epoch 5/10\n",
      "252/252 [==============================] - 3s 12ms/step - loss: 1.3207e-04 - accuracy: 7.9650e-04\n",
      "Epoch 6/10\n",
      "252/252 [==============================] - 3s 13ms/step - loss: 1.4400e-04 - accuracy: 7.9650e-04\n",
      "Epoch 7/10\n",
      "252/252 [==============================] - 3s 12ms/step - loss: 1.2566e-04 - accuracy: 7.9650e-04\n",
      "Epoch 8/10\n",
      "252/252 [==============================] - 3s 12ms/step - loss: 1.8323e-04 - accuracy: 7.9650e-04\n",
      "Epoch 9/10\n",
      "252/252 [==============================] - 3s 12ms/step - loss: 1.0731e-04 - accuracy: 7.9650e-04\n",
      "Epoch 10/10\n",
      "252/252 [==============================] - 3s 12ms/step - loss: 1.1010e-04 - accuracy: 7.9650e-04\n"
     ]
    }
   ],
   "source": [
    "from keras.layers import LSTM,Dense\n",
    "from keras.models import Sequential\n",
    "y_train = scaler.fit_transform(y_train)\n",
    "\n",
    "model_lstm = Sequential()\n",
    "model_lstm.add(\n",
    "    LSTM(64,return_sequences=True,input_shape = (X_train.shape[1],1))) #64 lstm neuron block\n",
    "model_lstm.add(\n",
    "    LSTM(64, return_sequences= False))\n",
    "model_lstm.add(Dense(32))\n",
    "model_lstm.add(Dense(1))\n",
    "model_lstm.compile(loss = \"mean_squared_error\", optimizer = \"adam\", metrics = [\"accuracy\"])\n",
    "history2 = model_lstm.fit(X_train, y_train, epochs = 10, batch_size = 10)"
   ]
  },
  {
   "cell_type": "code",
   "execution_count": 25,
   "id": "bf473dbe8274fca7",
   "metadata": {
    "ExecuteTime": {
     "end_time": "2025-01-14T11:32:29.014871Z",
     "start_time": "2025-01-14T11:32:29.011371Z"
    }
   },
   "outputs": [
    {
     "data": {
      "text/plain": [
       "[0.0005726453964598477,\n",
       " 0.00030826483271084726,\n",
       " 0.00022556590556632727,\n",
       " 0.00019900109327863902,\n",
       " 0.00013207155279815197,\n",
       " 0.0001439982879674062,\n",
       " 0.00012565779616124928,\n",
       " 0.00018322769028600305,\n",
       " 0.0001073125604307279,\n",
       " 0.0001100994850276038]"
      ]
     },
     "execution_count": 25,
     "metadata": {},
     "output_type": "execute_result"
    }
   ],
   "source": [
    "history2.history[\"loss\"]"
   ]
  },
  {
   "cell_type": "code",
   "execution_count": 26,
   "id": "7b1af5419600550a",
   "metadata": {
    "ExecuteTime": {
     "end_time": "2025-01-14T11:32:30.538588Z",
     "start_time": "2025-01-14T11:32:30.464087Z"
    }
   },
   "outputs": [
    {
     "data": {
      "image/png": "[encoded data removed]",
      "text/plain": [
       "<Figure size 1000x700 with 1 Axes>"
      ]
     },
     "metadata": {},
     "output_type": "display_data"
    }
   ],
   "source": [
    "plt.figure(figsize =(10,7))\n",
    "plt.plot(history2.history[\"loss\"])\n",
    "plt.xlabel(\"Epochs\")\n",
    "plt.ylabel(\"Losses\")\n",
    "plt.title(\"LSTM model, Loss vs Epoch\")\n",
    "plt.show()"
   ]
  },
  {
   "cell_type": "code",
   "execution_count": 27,
   "id": "d19133ecfb619fd4",
   "metadata": {
    "ExecuteTime": {
     "end_time": "2025-01-14T11:32:49.880567Z",
     "start_time": "2025-01-14T11:32:49.209566Z"
    }
   },
   "outputs": [
    {
     "ename": "NameError",
     "evalue": "name 'X_test' is not defined",
     "output_type": "error",
     "traceback": [
      "\u001b[1;31m---------------------------------------------------------------------------\u001b[0m",
      "\u001b[1;31mNameError\u001b[0m                                 Traceback (most recent call last)",
      "Cell \u001b[1;32mIn[27], line 2\u001b[0m\n\u001b[0;32m      1\u001b[0m plt\u001b[38;5;241m.\u001b[39msubplots(figsize \u001b[38;5;241m=\u001b[39m(\u001b[38;5;241m30\u001b[39m,\u001b[38;5;241m12\u001b[39m))\n\u001b[1;32m----> 2\u001b[0m plt\u001b[38;5;241m.\u001b[39mplot(scaler\u001b[38;5;241m.\u001b[39minverse_transform(model_lstm\u001b[38;5;241m.\u001b[39mpredict(\u001b[43mX_test\u001b[49m)), label \u001b[38;5;241m=\u001b[39m \u001b[38;5;124m\"\u001b[39m\u001b[38;5;124my_pred_of_test\u001b[39m\u001b[38;5;124m\"\u001b[39m, c \u001b[38;5;241m=\u001b[39m \u001b[38;5;124m\"\u001b[39m\u001b[38;5;124morange\u001b[39m\u001b[38;5;124m\"\u001b[39m )\n\u001b[0;32m      3\u001b[0m plt\u001b[38;5;241m.\u001b[39mplot(scaler\u001b[38;5;241m.\u001b[39minverse_transform(y_test), label \u001b[38;5;241m=\u001b[39m \u001b[38;5;124m\"\u001b[39m\u001b[38;5;124my_test\u001b[39m\u001b[38;5;124m\"\u001b[39m, color \u001b[38;5;241m=\u001b[39m \u001b[38;5;124m\"\u001b[39m\u001b[38;5;124mg\u001b[39m\u001b[38;5;124m\"\u001b[39m)\n\u001b[0;32m      4\u001b[0m plt\u001b[38;5;241m.\u001b[39mxlabel(\u001b[38;5;124m\"\u001b[39m\u001b[38;5;124mDays\u001b[39m\u001b[38;5;124m\"\u001b[39m)\n",
      "\u001b[1;31mNameError\u001b[0m: name 'X_test' is not defined"
     ]
    },
    {
     "data": {
      "image/png": "[encoded data removed]",
      "text/plain": [
       "<Figure size 3000x1200 with 1 Axes>"
      ]
     },
     "metadata": {},
     "output_type": "display_data"
    }
   ],
   "source": [
    "plt.subplots(figsize =(30,12))\n",
    "plt.plot(scaler.inverse_transform(model_lstm.predict(X_test)), label = \"y_pred_of_test\", c = \"orange\" )\n",
    "plt.plot(scaler.inverse_transform(y_test), label = \"y_test\", color = \"g\")\n",
    "plt.xlabel(\"Days\")\n",
    "plt.ylabel(\"Open price\")\n",
    "plt.title(\"LSTM model, Predictions with input X_test vs y_test\")\n",
    "plt.legend()\n",
    "plt.show()"
   ]
  },
  {
   "cell_type": "code",
   "execution_count": 152,
   "id": "e014bc9287ae6d17",
   "metadata": {
    "ExecuteTime": {
     "end_time": "2025-01-14T11:33:35.872147Z",
     "start_time": "2025-01-14T11:33:35.866148Z"
    }
   },
   "outputs": [
    {
     "data": {
      "text/plain": [
       "Date      2025-01-13\n",
       "Close     403.309998\n",
       "High      403.790009\n",
       "Low       380.070007\n",
       "Open      383.209991\n",
       "Volume    66525600.0\n",
       "Name: 3659, dtype: object"
      ]
     },
     "execution_count": 152,
     "metadata": {},
     "output_type": "execute_result"
    }
   ],
   "source": [
    "data.iloc[-1]"
   ]
  },
  {
   "cell_type": "code",
   "execution_count": 29,
   "id": "86b4e2b1dbb49bf6",
   "metadata": {
    "ExecuteTime": {
     "end_time": "2025-01-14T11:33:39.023807Z",
     "start_time": "2025-01-14T11:33:39.018306Z"
    }
   },
   "outputs": [
    {
     "name": "stdout",
     "output_type": "stream",
     "text": [
      "Shape of X_input : (1, 50, 1)\n"
     ]
    },
    {
     "data": {
      "text/plain": [
       "array([[[0.05826926],\n",
       "        [0.05805305],\n",
       "        [0.03233334],\n",
       "        [0.        ],\n",
       "        [0.01201694],\n",
       "        [0.17338124],\n",
       "        [0.1916228 ],\n",
       "        [0.23592988],\n",
       "        [0.43978556],\n",
       "        [0.42439697],\n",
       "        [0.39461403],\n",
       "        [0.35934126],\n",
       "        [0.28533765],\n",
       "        [0.41570855],\n",
       "        [0.39422501],\n",
       "        [0.43416618],\n",
       "        [0.42902223],\n",
       "        [0.41726463],\n",
       "        [0.49961104],\n",
       "        [0.41687561],\n",
       "        [0.42033367],\n",
       "        [0.39560815],\n",
       "        [0.4660673 ],\n",
       "        [0.46356009],\n",
       "        [0.46874732],\n",
       "        [0.49844385],\n",
       "        [0.57430629],\n",
       "        [0.66158032],\n",
       "        [0.64026972],\n",
       "        [0.71384117],\n",
       "        [0.77928591],\n",
       "        [0.75836433],\n",
       "        [0.84952884],\n",
       "        [1.        ],\n",
       "        [0.95936719],\n",
       "        [0.89617019],\n",
       "        [0.78218213],\n",
       "        [0.8059134 ],\n",
       "        [0.82709432],\n",
       "        [0.95357487],\n",
       "        [0.88596868],\n",
       "        [0.75577072],\n",
       "        [0.77474719],\n",
       "        [0.62911736],\n",
       "        [0.59185621],\n",
       "        [0.77219684],\n",
       "        [0.69711244],\n",
       "        [0.64143692],\n",
       "        [0.63473675],\n",
       "        [0.5993343 ]]])"
      ]
     },
     "execution_count": 29,
     "metadata": {},
     "output_type": "execute_result"
    }
   ],
   "source": [
    "X_input = data.iloc[-time_step:].Open.values               # getting last 50 rows and converting to array\n",
    "X_input = scaler.fit_transform(X_input.reshape(-1,1))      # converting to 2D array and scaling\n",
    "X_input = np.reshape(X_input, (1,50,1))                    # reshaping : converting to 3D array\n",
    "print(\"Shape of X_input :\", X_input.shape)\n",
    "X_input"
   ]
  },
  {
   "cell_type": "code",
   "execution_count": 30,
   "id": "618a3f43fd353a3f",
   "metadata": {
    "ExecuteTime": {
     "end_time": "2025-01-14T11:45:51.465878Z",
     "start_time": "2025-01-14T11:45:51.405877Z"
    }
   },
   "outputs": [],
   "source": [
    "from raiwidgets import ResponsibleAIDashboard\n",
    "from responsibleai import RAIInsights"
   ]
  },
  {
   "cell_type": "code",
   "execution_count": 37,
   "id": "d5e1f16c-aecf-47fb-9499-8343cc86cbac",
   "metadata": {},
   "outputs": [],
   "source": [
    "from responsibleai.feature_metadata import FeatureMetadata\n",
    "feature_metadata = FeatureMetadata(categorical_features=[], dropped_features=[])\n",
    "target_feature='y'"
   ]
  },
  {
   "cell_type": "code",
   "execution_count": 39,
   "id": "6f7a6975-b7dd-4767-adf2-79926563990b",
   "metadata": {},
   "outputs": [
    {
     "ename": "UserConfigValidationException",
     "evalue": "Target name y not present in train/test data",
     "output_type": "error",
     "traceback": [
      "\u001b[1;31m---------------------------------------------------------------------------\u001b[0m",
      "\u001b[1;31mUserConfigValidationException\u001b[0m             Traceback (most recent call last)",
      "Cell \u001b[1;32mIn[39], line 1\u001b[0m\n\u001b[1;32m----> 1\u001b[0m rai_insights \u001b[38;5;241m=\u001b[39m \u001b[43mRAIInsights\u001b[49m\u001b[43m(\u001b[49m\u001b[43mmodel_lstm\u001b[49m\u001b[43m,\u001b[49m\u001b[43m \u001b[49m\u001b[43mtrain_data\u001b[49m\u001b[43m,\u001b[49m\u001b[43mvalidation_data\u001b[49m\u001b[43m,\u001b[49m\u001b[43mtarget_feature\u001b[49m\u001b[43m,\u001b[49m\u001b[38;5;124;43m'\u001b[39;49m\u001b[38;5;124;43mregression\u001b[39;49m\u001b[38;5;124;43m'\u001b[39;49m\u001b[43m,\u001b[49m\u001b[43mfeature_metadata\u001b[49m\u001b[38;5;241;43m=\u001b[39;49m\u001b[43mfeature_metadata\u001b[49m\u001b[43m)\u001b[49m\n",
      "File \u001b[1;32m~\\anaconda3\\envs\\myenv\\lib\\site-packages\\responsibleai\\rai_insights\\rai_insights.py:220\u001b[0m, in \u001b[0;36mRAIInsights.__init__\u001b[1;34m(self, model, train, test, target_column, task_type, categorical_features, classes, serializer, maximum_rows_for_test, feature_metadata, **kwargs)\u001b[0m\n\u001b[0;32m    217\u001b[0m \u001b[38;5;28mself\u001b[39m\u001b[38;5;241m.\u001b[39m_large_predict_proba_output \u001b[38;5;241m=\u001b[39m \u001b[38;5;28;01mNone\u001b[39;00m\n\u001b[0;32m    218\u001b[0m \u001b[38;5;28mself\u001b[39m\u001b[38;5;241m.\u001b[39m_large_forecast_quantiles_output \u001b[38;5;241m=\u001b[39m \u001b[38;5;28;01mNone\u001b[39;00m\n\u001b[1;32m--> 220\u001b[0m \u001b[38;5;28;43mself\u001b[39;49m\u001b[38;5;241;43m.\u001b[39;49m\u001b[43m_validate_rai_insights_input_parameters\u001b[49m\u001b[43m(\u001b[49m\n\u001b[0;32m    221\u001b[0m \u001b[43m    \u001b[49m\u001b[43mmodel\u001b[49m\u001b[38;5;241;43m=\u001b[39;49m\u001b[43mmodel\u001b[49m\u001b[43m,\u001b[49m\n\u001b[0;32m    222\u001b[0m \u001b[43m    \u001b[49m\u001b[43mtrain\u001b[49m\u001b[38;5;241;43m=\u001b[39;49m\u001b[43mtrain\u001b[49m\u001b[43m,\u001b[49m\n\u001b[0;32m    223\u001b[0m \u001b[43m    \u001b[49m\u001b[43mtest\u001b[49m\u001b[38;5;241;43m=\u001b[39;49m\u001b[43mtest\u001b[49m\u001b[43m,\u001b[49m\n\u001b[0;32m    224\u001b[0m \u001b[43m    \u001b[49m\u001b[43mtarget_column\u001b[49m\u001b[38;5;241;43m=\u001b[39;49m\u001b[43mtarget_column\u001b[49m\u001b[43m,\u001b[49m\n\u001b[0;32m    225\u001b[0m \u001b[43m    \u001b[49m\u001b[43mtask_type\u001b[49m\u001b[38;5;241;43m=\u001b[39;49m\u001b[43mtask_type\u001b[49m\u001b[43m,\u001b[49m\n\u001b[0;32m    226\u001b[0m \u001b[43m    \u001b[49m\u001b[43mclasses\u001b[49m\u001b[38;5;241;43m=\u001b[39;49m\u001b[43mclasses\u001b[49m\u001b[43m,\u001b[49m\n\u001b[0;32m    227\u001b[0m \u001b[43m    \u001b[49m\u001b[43mserializer\u001b[49m\u001b[38;5;241;43m=\u001b[39;49m\u001b[43mserializer\u001b[49m\u001b[43m,\u001b[49m\n\u001b[0;32m    228\u001b[0m \u001b[43m    \u001b[49m\u001b[43mfeature_metadata\u001b[49m\u001b[38;5;241;43m=\u001b[39;49m\u001b[38;5;28;43mself\u001b[39;49m\u001b[38;5;241;43m.\u001b[39;49m\u001b[43m_feature_metadata\u001b[49m\u001b[43m,\u001b[49m\n\u001b[0;32m    229\u001b[0m \u001b[43m    \u001b[49m\u001b[38;5;241;43m*\u001b[39;49m\u001b[38;5;241;43m*\u001b[39;49m\u001b[43mkwargs\u001b[49m\u001b[43m)\u001b[49m\n\u001b[0;32m    231\u001b[0m \u001b[38;5;28mself\u001b[39m\u001b[38;5;241m.\u001b[39m_classes \u001b[38;5;241m=\u001b[39m RAIInsights\u001b[38;5;241m.\u001b[39m_get_classes(\n\u001b[0;32m    232\u001b[0m     task_type\u001b[38;5;241m=\u001b[39mtask_type,\n\u001b[0;32m    233\u001b[0m     train\u001b[38;5;241m=\u001b[39mtrain,\n\u001b[0;32m    234\u001b[0m     target_column\u001b[38;5;241m=\u001b[39mtarget_column,\n\u001b[0;32m    235\u001b[0m     classes\u001b[38;5;241m=\u001b[39mclasses\n\u001b[0;32m    236\u001b[0m )\n\u001b[0;32m    238\u001b[0m \u001b[38;5;28mself\u001b[39m\u001b[38;5;241m.\u001b[39m_feature_columns \u001b[38;5;241m=\u001b[39m \\\n\u001b[0;32m    239\u001b[0m     test\u001b[38;5;241m.\u001b[39mdrop(columns\u001b[38;5;241m=\u001b[39m[target_column])\u001b[38;5;241m.\u001b[39mcolumns\u001b[38;5;241m.\u001b[39mtolist()\n",
      "File \u001b[1;32m~\\anaconda3\\envs\\myenv\\lib\\site-packages\\responsibleai\\rai_insights\\rai_insights.py:538\u001b[0m, in \u001b[0;36mRAIInsights._validate_rai_insights_input_parameters\u001b[1;34m(self, model, train, test, target_column, task_type, classes, serializer, feature_metadata, **kwargs)\u001b[0m\n\u001b[0;32m    533\u001b[0m     \u001b[38;5;28;01mraise\u001b[39;00m UserConfigValidationException(\n\u001b[0;32m    534\u001b[0m         \u001b[38;5;124m'\u001b[39m\u001b[38;5;124mThe features in train and test data do not match\u001b[39m\u001b[38;5;124m'\u001b[39m)\n\u001b[0;32m    536\u001b[0m \u001b[38;5;28;01mif\u001b[39;00m (target_column \u001b[38;5;129;01mnot\u001b[39;00m \u001b[38;5;129;01min\u001b[39;00m \u001b[38;5;28mlist\u001b[39m(train\u001b[38;5;241m.\u001b[39mcolumns) \u001b[38;5;129;01mor\u001b[39;00m\n\u001b[0;32m    537\u001b[0m         target_column \u001b[38;5;129;01mnot\u001b[39;00m \u001b[38;5;129;01min\u001b[39;00m \u001b[38;5;28mlist\u001b[39m(test\u001b[38;5;241m.\u001b[39mcolumns)):\n\u001b[1;32m--> 538\u001b[0m     \u001b[38;5;28;01mraise\u001b[39;00m UserConfigValidationException(\n\u001b[0;32m    539\u001b[0m         \u001b[38;5;124mf\u001b[39m\u001b[38;5;124m'\u001b[39m\u001b[38;5;124mTarget name \u001b[39m\u001b[38;5;132;01m{\u001b[39;00mtarget_column\u001b[38;5;132;01m}\u001b[39;00m\u001b[38;5;124m not present in train/test data\u001b[39m\u001b[38;5;124m'\u001b[39m)\n\u001b[0;32m    541\u001b[0m categorical_features \u001b[38;5;241m=\u001b[39m feature_metadata\u001b[38;5;241m.\u001b[39mcategorical_features\n\u001b[0;32m    542\u001b[0m \u001b[38;5;28;01mif\u001b[39;00m (categorical_features \u001b[38;5;129;01mis\u001b[39;00m \u001b[38;5;129;01mnot\u001b[39;00m \u001b[38;5;28;01mNone\u001b[39;00m \u001b[38;5;129;01mand\u001b[39;00m\n\u001b[0;32m    543\u001b[0m         \u001b[38;5;28mlen\u001b[39m(categorical_features) \u001b[38;5;241m>\u001b[39m \u001b[38;5;241m0\u001b[39m):\n",
      "\u001b[1;31mUserConfigValidationException\u001b[0m: Target name y not present in train/test data"
     ]
    }
   ],
   "source": []
  }
 ],
 "metadata": {
  "kernelspec": {
   "display_name": "Python 3 (ipykernel)",
   "language": "python",
   "name": "python3"
  },
  "language_info": {
   "codemirror_mode": {
    "name": "ipython",
    "version": 3
   },
   "file_extension": ".py",
   "mimetype": "text/x-python",
   "name": "python",
   "nbconvert_exporter": "python",
   "pygments_lexer": "ipython3",
   "version": "3.8.20"
  }
 },
 "nbformat": 4,
 "nbformat_minor": 5
}
