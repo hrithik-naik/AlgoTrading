{
 "cells": [
  {
   "cell_type": "code",
   "execution_count": 1,
   "id": "bb875c90-1695-4cfb-9f79-2b7268be66b3",
   "metadata": {},
   "outputs": [
    {
     "name": "stderr",
     "output_type": "stream",
     "text": [
      "IProgress not found. Please update jupyter and ipywidgets. See https://ipywidgets.readthedocs.io/en/stable/user_install.html\n"
     ]
    }
   ],
   "source": [
    "import shap\n",
    "import sklearn\n",
    "import pandas as pd\n",
    "\n",
    "from sklearn.model_selection import train_test_split\n",
    "\n"
   ]
  },
  {
   "cell_type": "code",
   "execution_count": 2,
   "id": "71d2d10b-c79c-4ef2-8d05-c2ebfc2e62c9",
   "metadata": {},
   "outputs": [],
   "source": [
    "data=pd.read_csv(\"g1.csv\")\n",
    "data.head()\n",
    "continuous_features = data.columns.tolist()\n",
    "continuous_features\n",
    "\n",
    "x = data.drop(\"gender\", axis=1)\n",
    "\n",
    "\n",
    "# Target (the 'gender' column)\n",
    "y = data[\"gender\"]\n",
    "\n"
   ]
  },
  {
   "cell_type": "code",
   "execution_count": 3,
   "id": "ee719601-505f-48f1-8f7d-2d2406719b94",
   "metadata": {},
   "outputs": [
    {
     "name": "stdout",
     "output_type": "stream",
     "text": [
      "Feature names: ['long_hair', 'forehead_width_cm', 'forehead_height_cm', 'nose_wide', 'nose_long', 'lips_thin', 'distance_nose_to_lip_long', 'gender']\n"
     ]
    }
   ],
   "source": [
    "X_train, X_test, y_train, y_test = train_test_split(x,y, test_size=0.2, random_state=7)\n",
    "\n",
    "target_feature = \"gender\"\n",
    "\n",
    "\n",
    "train_data = X_train.copy()\n",
    "test_data = X_test.copy()\n",
    "\n",
    "\n",
    "train_data[target_feature] = y_train\n",
    "test_data[target_feature] = y_test\n",
    "\n",
    "\n",
    "\n",
    "feature_names = train_data.columns.tolist()\n",
    "print(\"Feature names:\", feature_names)\n",
    "\n"
   ]
  },
  {
   "cell_type": "code",
   "execution_count": 4,
   "id": "dc69ebb8-47e5-4c6f-bfed-3d17fa0528c7",
   "metadata": {},
   "outputs": [
    {
     "name": "stdout",
     "output_type": "stream",
     "text": [
      "Accuracy: 0.9710\n",
      "\n",
      "Classification Report:\n",
      "              precision    recall  f1-score   support\n",
      "\n",
      "      Female       0.98      0.97      0.97       497\n",
      "        Male       0.97      0.98      0.97       504\n",
      "\n",
      "    accuracy                           0.97      1001\n",
      "   macro avg       0.97      0.97      0.97      1001\n",
      "weighted avg       0.97      0.97      0.97      1001\n",
      "\n",
      "\n",
      "Confusion Matrix:\n",
      "[[480  17]\n",
      " [ 12 492]]\n"
     ]
    }
   ],
   "source": [
    "# Import necessary libraries\n",
    "from sklearn.linear_model import LogisticRegression\n",
    "from sklearn.metrics import accuracy_score, classification_report, confusion_matrix\n",
    "\n",
    "# Initialize the Logistic Regression model\n",
    "model = LogisticRegression(random_state=7)\n",
    "\n",
    "# Train the model on the training data\n",
    "model.fit(X_train, y_train)\n",
    "\n",
    "# Predict on the test set\n",
    "y_pred = model.predict(X_test)\n",
    "\n",
    "# Evaluate the model's performance\n",
    "accuracy = accuracy_score(y_test, y_pred)\n",
    "print(f\"Accuracy: {accuracy:.4f}\")\n",
    "\n",
    "# Detailed classification report\n",
    "print(\"\\nClassification Report:\")\n",
    "print(classification_report(y_test, y_pred))\n",
    "\n",
    "# Confusion matrix to visualize the performance\n",
    "print(\"\\nConfusion Matrix:\")\n",
    "print(confusion_matrix(y_test, y_pred))\n"
   ]
  },
  {
   "cell_type": "code",
   "execution_count": 10,
   "id": "af6d0f49-2597-434a-bd7e-542532ab1c67",
   "metadata": {},
   "outputs": [],
   "source": [
    "from raiwidgets import ResponsibleAIDashboard\n",
    "from responsibleai import RAIInsights\n",
    "from responsibleai.feature_metadata import FeatureMetadata\n",
    "categorical_features = []"
   ]
  },
  {
   "cell_type": "code",
   "execution_count": 11,
   "id": "d7440eaf-bcbc-451b-af2b-c3d0dc6ae22a",
   "metadata": {},
   "outputs": [],
   "source": [
    "feature_metadata = FeatureMetadata(categorical_features=categorical_features, dropped_features=[])\n",
    "rai_insights = RAIInsights(model, train_data, test_data, target_feature, 'classification',\n",
    "                               feature_metadata=feature_metadata)"
   ]
  },
  {
   "cell_type": "code",
   "execution_count": 12,
   "id": "c6f30074-f575-42a3-9bab-7716336023d1",
   "metadata": {},
   "outputs": [],
   "source": [
    "rai_insights.explainer.add()\n",
    "# Error Analysis\n",
    "rai_insights.error_analysis.add()\n",
    "# Counterfactuals: accepts total number of counterfactuals to generate, the label that they should have, and a list of \n",
    "                # strings of categorical feature names\n",
    "rai_insights.counterfactual.add(total_CFs=10, desired_class='opposite')"
   ]
  },
  {
   "cell_type": "code",
   "execution_count": null,
   "id": "124b6f1a-ea17-418a-a592-05772667094a",
   "metadata": {},
   "outputs": [
    {
     "name": "stdout",
     "output_type": "stream",
     "text": [
      "================================================================================\n",
      "Causal Effects\n",
      "Current Status: Generating Causal Effects.\n",
      "Current Status: Finished generating causal effects.\n",
      "Time taken: 0.0 min 1.5400000009435644e-05 sec\n",
      "================================================================================\n",
      "================================================================================\n",
      "Counterfactual\n",
      "Current Status: Generating 10 counterfactuals for 1001 samples\n"
     ]
    },
    {
     "name": "stderr",
     "output_type": "stream",
     "text": [
      "  6%|████▍                                                                           | 56/1001 [00:04<01:12, 12.95it/s]"
     ]
    }
   ],
   "source": [
    "rai_insights.compute()"
   ]
  },
  {
   "cell_type": "code",
   "execution_count": null,
   "id": "45e36dbc-36fa-4b71-8d74-064bf6012072",
   "metadata": {},
   "outputs": [],
   "source": [
    "ResponsibleAIDashboard(rai_insights)"
   ]
  }
 ],
 "metadata": {
  "kernelspec": {
   "display_name": "Python 3 (ipykernel)",
   "language": "python",
   "name": "python3"
  },
  "language_info": {
   "codemirror_mode": {
    "name": "ipython",
    "version": 3
   },
   "file_extension": ".py",
   "mimetype": "text/x-python",
   "name": "python",
   "nbconvert_exporter": "python",
   "pygments_lexer": "ipython3",
   "version": "3.8.20"
  }
 },
 "nbformat": 4,
 "nbformat_minor": 5
}
